{
 "cells": [
  {
   "cell_type": "code",
   "execution_count": 1,
   "id": "77bf3a2f-5456-41ad-b343-55f1ca915181",
   "metadata": {},
   "outputs": [],
   "source": [
    "import pickle\n"
   ]
  },
  {
   "cell_type": "code",
   "execution_count": 3,
   "id": "089972eb-b2e0-44d6-8238-ae824e67c941",
   "metadata": {},
   "outputs": [],
   "source": [
    "loaded_model=pickle.load(open(\"finilized_model_SVM.sav\",'rb'))\n",
    "result=loaded_model.predict([[12340,14600,45000,0,1]])"
   ]
  },
  {
   "cell_type": "code",
   "execution_count": 4,
   "id": "966dc6b4-c38a-43c6-a99c-5d3f4d1748c5",
   "metadata": {},
   "outputs": [
    {
     "data": {
      "text/plain": [
       "array([7.69733515e+08])"
      ]
     },
     "execution_count": 4,
     "metadata": {},
     "output_type": "execute_result"
    }
   ],
   "source": [
    "result"
   ]
  },
  {
   "cell_type": "code",
   "execution_count": null,
   "id": "8e4b6c2f-1ddd-45cd-8a5a-8653a122bc50",
   "metadata": {},
   "outputs": [],
   "source": []
  }
 ],
 "metadata": {
  "kernelspec": {
   "display_name": "Python 3 (ipykernel)",
   "language": "python",
   "name": "python3"
  },
  "language_info": {
   "codemirror_mode": {
    "name": "ipython",
    "version": 3
   },
   "file_extension": ".py",
   "mimetype": "text/x-python",
   "name": "python",
   "nbconvert_exporter": "python",
   "pygments_lexer": "ipython3",
   "version": "3.12.4"
  }
 },
 "nbformat": 4,
 "nbformat_minor": 5
}
